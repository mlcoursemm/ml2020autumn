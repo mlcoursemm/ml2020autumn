{
 "cells": [
  {
   "cell_type": "code",
   "execution_count": 1,
   "metadata": {},
   "outputs": [],
   "source": [
    "from sklearn.datasets import load_breast_cancer\n",
    "from sklearn.model_selection import train_test_split"
   ]
  },
  {
   "cell_type": "code",
   "execution_count": 2,
   "metadata": {},
   "outputs": [],
   "source": [
    "X, y = load_breast_cancer(return_X_y=True)"
   ]
  },
  {
   "cell_type": "code",
   "execution_count": 3,
   "metadata": {},
   "outputs": [
    {
     "name": "stdout",
     "output_type": "stream",
     "text": [
      "(455, 30) (455,) (114, 30) (114,)\n"
     ]
    }
   ],
   "source": [
    "trainX, testX, trainY, testY = train_test_split(X, y, random_state=42, test_size=0.2)\n",
    "print(trainX.shape, trainY.shape, testX.shape, testY.shape)"
   ]
  },
  {
   "cell_type": "code",
   "execution_count": 4,
   "metadata": {},
   "outputs": [
    {
     "name": "stdout",
     "output_type": "stream",
     "text": [
      "[1 0 0 1 1 0 0 0 1 1 1 0 1 0 1 0 1 1 1 0 0 1 0 1 1 1 1 1 1 0 1 1 1 1 1 1 0\n",
      " 1 0 1 1 0 1 1 1 1 1 1 1 1 0 0 1 1 1 1 1 0 0 1 1 0 0 1 1 1 0 0 1 1 0 0 1 0\n",
      " 1 1 1 0 1 1 0 1 0 0 0 0 0 0 1 1 1 1 1 1 1 1 0 0 1 0 0 1 0 0 1 1 1 0 1 1 0\n",
      " 1 1 0]\n"
     ]
    }
   ],
   "source": [
    "print(testY)"
   ]
  },
  {
   "cell_type": "markdown",
   "metadata": {},
   "source": [
    "## Stacking"
   ]
  },
  {
   "cell_type": "code",
   "execution_count": 5,
   "metadata": {},
   "outputs": [],
   "source": [
    "from sklearn.tree import DecisionTreeClassifier\n",
    "from sklearn.linear_model import Perceptron\n",
    "from sklearn.svm import LinearSVC\n",
    "from sklearn.linear_model import LogisticRegression\n",
    "from sklearn.ensemble import StackingClassifier"
   ]
  },
  {
   "cell_type": "code",
   "execution_count": 6,
   "metadata": {},
   "outputs": [],
   "source": [
    "clsfrs = [\n",
    "    ('dtr', DecisionTreeClassifier(random_state=42)),\n",
    "    ('prc', Perceptron(random_state=42)),\n",
    "    ('svm', LinearSVC(random_state=42)),\n",
    "]"
   ]
  },
  {
   "cell_type": "code",
   "execution_count": 7,
   "metadata": {},
   "outputs": [
    {
     "name": "stdout",
     "output_type": "stream",
     "text": [
      "Stacking (dtr, prc, svm) score: 0.868421052631579\n"
     ]
    }
   ],
   "source": [
    "st = StackingClassifier(estimators=clsfrs, final_estimator=LogisticRegression(random_state=42), n_jobs=-1)\n",
    "st.fit(trainX, trainY)\n",
    "print('Stacking (dtr, prc, svm) score:', st.score(testX, testY))"
   ]
  },
  {
   "cell_type": "code",
   "execution_count": 8,
   "metadata": {},
   "outputs": [
    {
     "name": "stdout",
     "output_type": "stream",
     "text": [
      "Stacking (svm1, svm2, svm3) score: 0.9298245614035088\n"
     ]
    }
   ],
   "source": [
    "clsfrs = [\n",
    "    ('svm1', LinearSVC(random_state=421)),\n",
    "    ('svm2', LinearSVC(random_state=422)),\n",
    "    ('svm3', LinearSVC(random_state=423)),\n",
    "]\n",
    "st = StackingClassifier(estimators=clsfrs, final_estimator=LogisticRegression(random_state=42), n_jobs=-1)\n",
    "st.fit(trainX, trainY)\n",
    "print('Stacking (svm1, svm2, svm3) score:', st.score(testX, testY))"
   ]
  },
  {
   "cell_type": "code",
   "execution_count": 9,
   "metadata": {},
   "outputs": [
    {
     "name": "stdout",
     "output_type": "stream",
     "text": [
      "Stacking (dtr1, dtr2, dtr3) score: 0.9385964912280702\n"
     ]
    }
   ],
   "source": [
    "clsfrs = [\n",
    "    ('dtr1', DecisionTreeClassifier(random_state=421)),\n",
    "    ('dtr2', DecisionTreeClassifier(random_state=422)),\n",
    "    ('dtr3', DecisionTreeClassifier(random_state=423)),\n",
    "]\n",
    "st = StackingClassifier(estimators=clsfrs, final_estimator=LogisticRegression(random_state=42), n_jobs=-1)\n",
    "st.fit(trainX, trainY)\n",
    "print('Stacking (dtr1, dtr2, dtr3) score:', st.score(testX, testY))"
   ]
  },
  {
   "cell_type": "code",
   "execution_count": 10,
   "metadata": {},
   "outputs": [
    {
     "name": "stdout",
     "output_type": "stream",
     "text": [
      "Stacking (prc1, prc2, prc3) score: 0.9473684210526315\n"
     ]
    }
   ],
   "source": [
    "clsfrs = [\n",
    "    ('prc1', Perceptron(random_state=421)),\n",
    "    ('prc2', Perceptron(random_state=422)),\n",
    "    ('prc3', Perceptron(random_state=423)),\n",
    "]\n",
    "st = StackingClassifier(estimators=clsfrs, final_estimator=LogisticRegression(random_state=42), n_jobs=-1)\n",
    "st.fit(trainX, trainY)\n",
    "print('Stacking (prc1, prc2, prc3) score:', st.score(testX, testY))"
   ]
  },
  {
   "cell_type": "markdown",
   "metadata": {},
   "source": [
    "## Bagging"
   ]
  },
  {
   "cell_type": "code",
   "execution_count": 11,
   "metadata": {},
   "outputs": [],
   "source": [
    "from sklearn.ensemble import BaggingClassifier"
   ]
  },
  {
   "cell_type": "code",
   "execution_count": 12,
   "metadata": {},
   "outputs": [
    {
     "data": {
      "text/plain": [
       "BaggingClassifier(base_estimator=None, bootstrap=True, bootstrap_features=False,\n",
       "                  max_features=1.0, max_samples=1.0, n_estimators=2, n_jobs=-1,\n",
       "                  oob_score=False, random_state=42, verbose=0,\n",
       "                  warm_start=False)"
      ]
     },
     "execution_count": 12,
     "metadata": {},
     "output_type": "execute_result"
    }
   ],
   "source": [
    "bg = BaggingClassifier(base_estimator=None, n_estimators=2, n_jobs=-1, random_state=42)\n",
    "bg.fit(trainX, trainY)"
   ]
  },
  {
   "cell_type": "code",
   "execution_count": 13,
   "metadata": {},
   "outputs": [
    {
     "name": "stdout",
     "output_type": "stream",
     "text": [
      "[1 0 0 1 1 0 0 0 0 0 1 0 1 0 1 0 1 1 1 0 0 1 0 1 1 1 1 1 1 0 1 1 1 1 1 1 0\n",
      " 1 0 1 1 0 1 1 0 1 1 1 1 1 0 0 1 1 1 1 1 0 0 1 1 0 0 1 1 1 0 0 1 1 0 0 1 0\n",
      " 1 1 1 0 1 1 0 1 0 0 0 0 0 0 1 1 1 1 0 1 1 1 0 0 1 0 0 1 0 0 1 1 1 0 0 0 0\n",
      " 1 0 0]\n",
      "Bagging (2 tree) score: 0.9385964912280702\n"
     ]
    }
   ],
   "source": [
    "out_y = bg.predict(testX) # предсказываем классы\n",
    "print(out_y)\n",
    "out_score = bg.score(testX, testY) # считаем качество классификации\n",
    "print('Bagging (2 tree) score:', out_score)"
   ]
  },
  {
   "cell_type": "code",
   "execution_count": 14,
   "metadata": {},
   "outputs": [
    {
     "name": "stdout",
     "output_type": "stream",
     "text": [
      "Bagging (10 tree) score: 0.956140350877193\n"
     ]
    }
   ],
   "source": [
    "bg = BaggingClassifier(base_estimator=None, n_estimators=10, n_jobs=-1, random_state=42).fit(trainX, trainY)\n",
    "print('Bagging (10 tree) score:', bg.score(testX, testY))"
   ]
  },
  {
   "cell_type": "code",
   "execution_count": 15,
   "metadata": {},
   "outputs": [
    {
     "name": "stdout",
     "output_type": "stream",
     "text": [
      "Bagging (100 tree) score: 0.956140350877193\n"
     ]
    }
   ],
   "source": [
    "bg = BaggingClassifier(base_estimator=None, n_estimators=100, n_jobs=-1, random_state=42).fit(trainX, trainY)\n",
    "print('Bagging (100 tree) score:', bg.score(testX, testY))"
   ]
  },
  {
   "cell_type": "code",
   "execution_count": 16,
   "metadata": {},
   "outputs": [],
   "source": [
    "from sklearn.svm import LinearSVC\n",
    "clf = LinearSVC(random_state=42)"
   ]
  },
  {
   "cell_type": "code",
   "execution_count": 17,
   "metadata": {},
   "outputs": [
    {
     "name": "stdout",
     "output_type": "stream",
     "text": [
      "Bagging (10 svm) score: 0.9385964912280702\n"
     ]
    }
   ],
   "source": [
    "bg = BaggingClassifier(base_estimator=clf, n_estimators=10, n_jobs=-1, random_state=42).fit(trainX, trainY)\n",
    "print('Bagging (10 svm) score:', bg.score(testX, testY))"
   ]
  },
  {
   "cell_type": "code",
   "execution_count": 18,
   "metadata": {},
   "outputs": [
    {
     "name": "stdout",
     "output_type": "stream",
     "text": [
      "Bagging (100 svm) score: 0.9385964912280702\n"
     ]
    }
   ],
   "source": [
    "bg = BaggingClassifier(base_estimator=clf, n_estimators=100, n_jobs=-1, random_state=42).fit(trainX, trainY)\n",
    "print('Bagging (100 svm) score:', bg.score(testX, testY))"
   ]
  },
  {
   "cell_type": "markdown",
   "metadata": {},
   "source": [
    "## AdaBoost"
   ]
  },
  {
   "cell_type": "code",
   "execution_count": 19,
   "metadata": {},
   "outputs": [],
   "source": [
    "from sklearn.ensemble import AdaBoostClassifier"
   ]
  },
  {
   "cell_type": "code",
   "execution_count": 20,
   "metadata": {},
   "outputs": [
    {
     "name": "stdout",
     "output_type": "stream",
     "text": [
      "AdaBoost (10 tree) score: 0.9824561403508771\n"
     ]
    }
   ],
   "source": [
    "ada = AdaBoostClassifier(base_estimator=None, n_estimators=10, random_state=42).fit(trainX, trainY)\n",
    "print('AdaBoost (10 tree) score:', ada.score(testX, testY))"
   ]
  },
  {
   "cell_type": "code",
   "execution_count": 21,
   "metadata": {},
   "outputs": [
    {
     "data": {
      "text/plain": [
       "Text(0, 0.5, 'Accuracy')"
      ]
     },
     "execution_count": 21,
     "metadata": {},
     "output_type": "execute_result"
    },
    {
     "data": {
      "image/png": "[encoded data removed]",
      "text/plain": [
       "<Figure size 432x288 with 1 Axes>"
      ]
     },
     "metadata": {
      "needs_background": "light"
     },
     "output_type": "display_data"
    }
   ],
   "source": [
    "s_hist = list(ada.staged_score(testX, testY)) # посмотрим на историю обучения\n",
    "import matplotlib.pyplot as plt \n",
    "%matplotlib inline \n",
    "plt.plot(s_hist)\n",
    "plt.xlabel('Boosting iteration')\n",
    "plt.ylabel('Accuracy')"
   ]
  },
  {
   "cell_type": "code",
   "execution_count": 22,
   "metadata": {},
   "outputs": [
    {
     "name": "stdout",
     "output_type": "stream",
     "text": [
      "AdaBoost (100 tree) score: 0.9736842105263158\n",
      "Overfit!\n"
     ]
    }
   ],
   "source": [
    "ada = AdaBoostClassifier(base_estimator=None, n_estimators=100, random_state=42).fit(trainX, trainY)\n",
    "print('AdaBoost (100 tree) score:', ada.score(testX, testY))\n",
    "print(\"Overfit!\")"
   ]
  },
  {
   "cell_type": "code",
   "execution_count": 23,
   "metadata": {},
   "outputs": [],
   "source": [
    "from sklearn.linear_model import LogisticRegression\n",
    "clf = LogisticRegression(random_state=42, solver='liblinear')"
   ]
  },
  {
   "cell_type": "code",
   "execution_count": 24,
   "metadata": {},
   "outputs": [
    {
     "name": "stdout",
     "output_type": "stream",
     "text": [
      "AdaBoost (10 logr) score: 0.956140350877193\n"
     ]
    }
   ],
   "source": [
    "ada = AdaBoostClassifier(base_estimator=clf, n_estimators=10, random_state=42).fit(trainX, trainY)\n",
    "print('AdaBoost (10 logr) score:', ada.score(testX, testY))"
   ]
  },
  {
   "cell_type": "code",
   "execution_count": 25,
   "metadata": {},
   "outputs": [
    {
     "name": "stdout",
     "output_type": "stream",
     "text": [
      "AdaBoost (100 logr) score: 0.9649122807017544\n"
     ]
    }
   ],
   "source": [
    "ada = AdaBoostClassifier(base_estimator=clf, n_estimators=100, random_state=42).fit(trainX, trainY)\n",
    "print('AdaBoost (100 logr) score:', ada.score(testX, testY))"
   ]
  },
  {
   "cell_type": "code",
   "execution_count": 26,
   "metadata": {},
   "outputs": [
    {
     "name": "stdout",
     "output_type": "stream",
     "text": [
      "AdaBoost (1000 logr) score: 0.9649122807017544\n"
     ]
    }
   ],
   "source": [
    "ada = AdaBoostClassifier(base_estimator=clf, n_estimators=1000, random_state=42).fit(trainX, trainY)\n",
    "print('AdaBoost (1000 logr) score:', ada.score(testX, testY))"
   ]
  },
  {
   "cell_type": "markdown",
   "metadata": {},
   "source": [
    "## Gradient Boosting"
   ]
  },
  {
   "cell_type": "code",
   "execution_count": 27,
   "metadata": {},
   "outputs": [],
   "source": [
    "from sklearn.ensemble import GradientBoostingClassifier"
   ]
  },
  {
   "cell_type": "code",
   "execution_count": 28,
   "metadata": {},
   "outputs": [
    {
     "name": "stdout",
     "output_type": "stream",
     "text": [
      "Gradient Boosting (10 tree) score: 0.956140350877193\n"
     ]
    }
   ],
   "source": [
    "gb = GradientBoostingClassifier(learning_rate=0.1, n_estimators=10, random_state=42).fit(trainX, trainY)\n",
    "print('Gradient Boosting (10 tree) score:', gb.score(testX, testY))"
   ]
  },
  {
   "cell_type": "code",
   "execution_count": 29,
   "metadata": {},
   "outputs": [
    {
     "name": "stdout",
     "output_type": "stream",
     "text": [
      "Gradient Boosting (100 tree) score: 0.956140350877193\n"
     ]
    }
   ],
   "source": [
    "gb = GradientBoostingClassifier(learning_rate=0.1, n_estimators=100, random_state=42).fit(trainX, trainY)\n",
    "print('Gradient Boosting (100 tree) score:', gb.score(testX, testY))"
   ]
  },
  {
   "cell_type": "markdown",
   "metadata": {},
   "source": [
    "## XGBoost"
   ]
  },
  {
   "cell_type": "code",
   "execution_count": 30,
   "metadata": {},
   "outputs": [
    {
     "name": "stdout",
     "output_type": "stream",
     "text": [
      "Requirement already satisfied: xgboost in d:\\4install\\python38\\lib\\site-packages (1.0.2)\n",
      "Requirement already satisfied: scipy in d:\\4install\\python38\\lib\\site-packages (from xgboost) (1.4.1)\n",
      "Requirement already satisfied: numpy in d:\\4install\\python38\\lib\\site-packages (from xgboost) (1.18.1)\n"
     ]
    }
   ],
   "source": [
    "!pip install xgboost"
   ]
  },
  {
   "cell_type": "code",
   "execution_count": 31,
   "metadata": {},
   "outputs": [],
   "source": [
    "from xgboost import XGBClassifier"
   ]
  },
  {
   "cell_type": "code",
   "execution_count": 32,
   "metadata": {},
   "outputs": [
    {
     "name": "stdout",
     "output_type": "stream",
     "text": [
      "XGB (10 tree) score: 0.956140350877193\n"
     ]
    }
   ],
   "source": [
    "xgb = XGBClassifier(learning_rate=0.1, n_estimators=10, n_jobs=-1, random_state=42).fit(trainX, trainY)\n",
    "print('XGB (10 tree) score:', xgb.score(testX, testY))"
   ]
  },
  {
   "cell_type": "code",
   "execution_count": 33,
   "metadata": {},
   "outputs": [
    {
     "name": "stdout",
     "output_type": "stream",
     "text": [
      "XGB (100 tree) score: 0.9649122807017544\n"
     ]
    }
   ],
   "source": [
    "xgb = XGBClassifier(learning_rate=0.1, n_estimators=100, n_jobs=-1, random_state=42).fit(trainX, trainY)\n",
    "print('XGB (100 tree) score:', xgb.score(testX, testY))"
   ]
  },
  {
   "cell_type": "code",
   "execution_count": 34,
   "metadata": {},
   "outputs": [
    {
     "name": "stdout",
     "output_type": "stream",
     "text": [
      "XGB (1000 tree) score: 0.9649122807017544\n"
     ]
    }
   ],
   "source": [
    "xgb = XGBClassifier(learning_rate=0.1, n_estimators=1000, n_jobs=-1, random_state=42).fit(trainX, trainY)\n",
    "print('XGB (1000 tree) score:', xgb.score(testX, testY))"
   ]
  },
  {
   "cell_type": "markdown",
   "metadata": {},
   "source": [
    "## LightGBM"
   ]
  },
  {
   "cell_type": "code",
   "execution_count": 35,
   "metadata": {},
   "outputs": [
    {
     "name": "stdout",
     "output_type": "stream",
     "text": [
      "Requirement already satisfied: lightgbm in d:\\4install\\python38\\lib\\site-packages (2.3.1)\n",
      "Requirement already satisfied: scipy in d:\\4install\\python38\\lib\\site-packages (from lightgbm) (1.4.1)\n",
      "Requirement already satisfied: numpy in d:\\4install\\python38\\lib\\site-packages (from lightgbm) (1.18.1)\n",
      "Requirement already satisfied: scikit-learn in d:\\4install\\python38\\lib\\site-packages (from lightgbm) (0.22.1)\n",
      "Requirement already satisfied: joblib>=0.11 in d:\\4install\\python38\\lib\\site-packages (from scikit-learn->lightgbm) (0.14.1)\n"
     ]
    }
   ],
   "source": [
    "!pip install lightgbm"
   ]
  },
  {
   "cell_type": "code",
   "execution_count": 36,
   "metadata": {},
   "outputs": [],
   "source": [
    "from lightgbm import LGBMClassifier"
   ]
  },
  {
   "cell_type": "code",
   "execution_count": 37,
   "metadata": {},
   "outputs": [
    {
     "name": "stdout",
     "output_type": "stream",
     "text": [
      "LGB (10 tree) score: 0.9649122807017544\n"
     ]
    }
   ],
   "source": [
    "xgb = LGBMClassifier(learning_rate=0.1, n_estimators=10, n_jobs=-1, random_state=42).fit(trainX, trainY)\n",
    "print('LGB (10 tree) score:', xgb.score(testX, testY))"
   ]
  },
  {
   "cell_type": "code",
   "execution_count": 38,
   "metadata": {},
   "outputs": [
    {
     "name": "stdout",
     "output_type": "stream",
     "text": [
      "LGB (100 tree) score: 0.9736842105263158\n"
     ]
    }
   ],
   "source": [
    "xgb = LGBMClassifier(learning_rate=0.1, n_estimators=100, n_jobs=-1, random_state=42).fit(trainX, trainY)\n",
    "print('LGB (100 tree) score:', xgb.score(testX, testY))"
   ]
  },
  {
   "cell_type": "code",
   "execution_count": 39,
   "metadata": {},
   "outputs": [
    {
     "name": "stdout",
     "output_type": "stream",
     "text": [
      "LGB (1000 tree) score: 0.9736842105263158\n"
     ]
    }
   ],
   "source": [
    "xgb = LGBMClassifier(learning_rate=0.1, n_estimators=1000, n_jobs=-1, random_state=42).fit(trainX, trainY)\n",
    "print('LGB (1000 tree) score:', xgb.score(testX, testY))"
   ]
  },
  {
   "cell_type": "markdown",
   "metadata": {},
   "source": [
    "## CatBoost"
   ]
  },
  {
   "cell_type": "code",
   "execution_count": 40,
   "metadata": {},
   "outputs": [
    {
     "name": "stdout",
     "output_type": "stream",
     "text": [
      "Requirement already satisfied: catboost in d:\\4install\\python38\\lib\\site-packages (0.22)\n",
      "Requirement already satisfied: six in d:\\4install\\python38\\lib\\site-packages (from catboost) (1.14.0)\n",
      "Requirement already satisfied: scipy in d:\\4install\\python38\\lib\\site-packages (from catboost) (1.4.1)\n",
      "Requirement already satisfied: pandas>=0.24.0 in d:\\4install\\python38\\lib\\site-packages (from catboost) (1.0.1)\n",
      "Requirement already satisfied: plotly in d:\\4install\\python38\\lib\\site-packages (from catboost) (4.6.0)\n",
      "Requirement already satisfied: matplotlib in d:\\4install\\python38\\lib\\site-packages (from catboost) (3.1.3)\n",
      "Requirement already satisfied: graphviz in d:\\4install\\python38\\lib\\site-packages (from catboost) (0.13.2)\n",
      "Requirement already satisfied: numpy>=1.16.0 in d:\\4install\\python38\\lib\\site-packages (from catboost) (1.18.1)\n",
      "Requirement already satisfied: python-dateutil>=2.6.1 in d:\\4install\\python38\\lib\\site-packages (from pandas>=0.24.0->catboost) (2.8.1)\n",
      "Requirement already satisfied: pytz>=2017.2 in d:\\4install\\python38\\lib\\site-packages (from pandas>=0.24.0->catboost) (2019.3)\n",
      "Requirement already satisfied: retrying>=1.3.3 in d:\\4install\\python38\\lib\\site-packages (from plotly->catboost) (1.3.3)\n",
      "Requirement already satisfied: cycler>=0.10 in d:\\4install\\python38\\lib\\site-packages (from matplotlib->catboost) (0.10.0)\n",
      "Requirement already satisfied: kiwisolver>=1.0.1 in d:\\4install\\python38\\lib\\site-packages (from matplotlib->catboost) (1.1.0)\n",
      "Requirement already satisfied: pyparsing!=2.0.4,!=2.1.2,!=2.1.6,>=2.0.1 in d:\\4install\\python38\\lib\\site-packages (from matplotlib->catboost) (2.4.6)\n",
      "Requirement already satisfied: setuptools in d:\\4install\\python38\\lib\\site-packages (from kiwisolver>=1.0.1->matplotlib->catboost) (41.2.0)\n"
     ]
    }
   ],
   "source": [
    "!pip install catboost"
   ]
  },
  {
   "cell_type": "code",
   "execution_count": 41,
   "metadata": {},
   "outputs": [],
   "source": [
    "from catboost import CatBoostClassifier"
   ]
  },
  {
   "cell_type": "code",
   "execution_count": 42,
   "metadata": {},
   "outputs": [
    {
     "name": "stdout",
     "output_type": "stream",
     "text": [
      "CB (10 tree) score: 0.9736842105263158\n"
     ]
    }
   ],
   "source": [
    "cb = CatBoostClassifier(learning_rate=0.1, n_estimators=10, thread_count=-1, random_state=42, logging_level='Silent').fit(trainX, trainY)\n",
    "print('CB (10 tree) score:', cb.score(testX, testY))"
   ]
  },
  {
   "cell_type": "code",
   "execution_count": 43,
   "metadata": {},
   "outputs": [
    {
     "name": "stdout",
     "output_type": "stream",
     "text": [
      "CB (100 tree) score: 0.9649122807017544\n"
     ]
    }
   ],
   "source": [
    "cb = CatBoostClassifier(learning_rate=0.1, n_estimators=100, thread_count=-1, random_state=42, logging_level='Silent').fit(trainX, trainY)\n",
    "print('CB (100 tree) score:', cb.score(testX, testY))"
   ]
  },
  {
   "cell_type": "code",
   "execution_count": null,
   "metadata": {},
   "outputs": [],
   "source": []
  }
 ],
 "metadata": {
  "kernelspec": {
   "display_name": "Python 3",
   "language": "python",
   "name": "python3"
  },
  "language_info": {
   "codemirror_mode": {
    "name": "ipython",
    "version": 3
   },
   "file_extension": ".py",
   "mimetype": "text/x-python",
   "name": "python",
   "nbconvert_exporter": "python",
   "pygments_lexer": "ipython3",
   "version": "3.8.1"
  }
 },
 "nbformat": 4,
 "nbformat_minor": 4
}
